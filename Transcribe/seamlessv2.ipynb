{
 "cells": [
  {
   "cell_type": "code",
   "execution_count": null,
   "metadata": {},
   "outputs": [],
   "source": [
    "%cd /content\n",
    "!git clone -b dev https://github.com/camenduru/seamless-expressive-hf\n",
    "\n",
    "!pip install -q fairseq2 gradio\n",
    "!pip install -q https://huggingface.co/spaces/facebook/seamless-m4t-v2-large/resolve/main/whl/seamless_communication-1.0.0-py3-none-any.whl\n",
    "\n",
    "!wget https://huggingface.co/spaces/facebook/seamless-expressive/resolve/main/assets/sample_input.mp3 -O /content/seamless-expressive-hf/assets/sample_input.mp3\n",
    "!wget https://huggingface.co/spaces/facebook/seamless-expressive/resolve/main/assets/sample_input_2.mp3 -O /content/seamless-expressive-hf/assets/sample_input_2.mp3\n",
    "\n",
    "!apt -y install -qq aria2\n",
    "!aria2c --console-log-level=error -c -x 16 -s 16 -k 1M https://huggingface.co/facebook/seamless-m4t-v2-large/resolve/main/seamlessM4T_v2_large.pt -d /content/models -o seamlessM4T_v2_large.pt\n",
    "!aria2c --console-log-level=error -c -x 16 -s 16 -k 1M https://huggingface.co/facebook/seamless-m4t-v2-large/resolve/main/spm_char_lang38_tc.model -d /content/models -o spm_char_lang38_tc.model\n",
    "!aria2c --console-log-level=error -c -x 16 -s 16 -k 1M https://huggingface.co/facebook/seamless-m4t-v2-large/resolve/main/vocoder_v2.pt -d /content/models -o vocoder_v2.pt\n",
    "!aria2c --console-log-level=error -c -x 16 -s 16 -k 1M https://huggingface.co/audo/seamless-m4t-v2-large/resolve/main/exp.pt -d /content/models -o m2m_expressive_unity.pt\n",
    "!aria2c --console-log-level=error -c -x 16 -s 16 -k 1M https://huggingface.co/audo/seamless-m4t-v2-large/resolve/main/mel.pt -d /content/models -o pretssel_melhifigan_wm-final.pt\n",
    "\n",
    "%cd /content/seamless-expressive-hf\n",
    "!python app.py"
   ]
  }
 ],
 "metadata": {
  "language_info": {
   "name": "python"
  }
 },
 "nbformat": 4,
 "nbformat_minor": 2
}
